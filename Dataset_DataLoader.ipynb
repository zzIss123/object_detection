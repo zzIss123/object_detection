{
 "cells": [
  {
   "cell_type": "markdown",
   "metadata": {},
   "source": [
    "## 准备工作\n",
    "### 创建图像数据、标注数据的文件路径列表"
   ]
  },
  {
   "cell_type": "code",
   "execution_count": 33,
   "metadata": {},
   "outputs": [],
   "source": [
    "# 包装的import\n",
    "import os.path as osp\n",
    "import numpy as np\n",
    "import cv2\n",
    "import random\n",
    "\n",
    "#从文件和文本中读取、加工、保存XML的库\n",
    "import xml.etree.ElementTree as ET\n",
    "\n",
    "import torch\n",
    "import torch.utils.data as data\n",
    "\n",
    "import matplotlib.pyplot as plt\n",
    "%matplotlib inline"
   ]
  },
  {
   "cell_type": "code",
   "execution_count": 2,
   "metadata": {},
   "outputs": [],
   "source": [
    "# 设定随机数的种子，\n",
    "torch.manual_seed(1234)\n",
    "np.random.seed(1234)\n",
    "random.seed(1234)"
   ]
  },
  {
   "cell_type": "code",
   "execution_count": 14,
   "metadata": {},
   "outputs": [],
   "source": [
    "#创建学习、验证用图像数据和标注数据的文件路径列表\n",
    "\n",
    "def make_datapath_list(rootpath):\n",
    "    #rootpath:数据文件夹路径\n",
    "\n",
    "    #创建图像文件和标注文件的路径模板\n",
    "    imgpath_template = osp.join(rootpath,'JPEGImages','%s.jpg')\n",
    "    annopath_template = osp.join(rootpath,'Annotations','%s.xml')\n",
    "\n",
    "    #分别取得训练和验证用的文件的ID\n",
    "    train_id_names = osp.join(rootpath+'ImageSets/Main/train.txt')\n",
    "    val_id_names = osp.join(rootpath+'ImageSets/Main/val.txt')\n",
    "\n",
    "    #创建训练数据的图像数据和标注文件的路径列表\n",
    "    train_img_list = list()\n",
    "    train_anno_list = list()\n",
    "\n",
    "    for line in open(train_id_names):\n",
    "        file_id = line.strip()                     #删除空格和换行符\n",
    "        # print(file_id)\n",
    "        img_path = (imgpath_template % file_id)    #图像的路径\n",
    "        anno_path = (annopath_template % file_id)  #标注的路径\n",
    "        train_img_list.append(img_path)            #添加到列表中\n",
    "        train_anno_list.append(anno_path)          #添加到列表中\n",
    "\n",
    "    #创建验证数据的图像数据和标注文件的路径列表\n",
    "    val_img_list = list()\n",
    "    val_anno_list = list()\n",
    "\n",
    "    for line in open(val_id_names):\n",
    "        file_id = line.strip()                     #删除空格和换行符\n",
    "        # print(file_id)\n",
    "        img_path = (imgpath_template % file_id)    #图像的路径\n",
    "        anno_path = (annopath_template % file_id)  #标注的路径\n",
    "        val_img_list.append(img_path)              #添加到列表中\n",
    "        val_anno_list.append(anno_path)            #添加到列表中\n",
    "    \n",
    "    return train_img_list,train_anno_list,val_img_list,val_anno_list\n"
   ]
  },
  {
   "cell_type": "code",
   "execution_count": 15,
   "metadata": {},
   "outputs": [
    {
     "name": "stdout",
     "output_type": "stream",
     "text": [
      "./data/VOCdevkit/VOC2012/JPEGImages\\2008_000008.jpg\n",
      "./data/VOCdevkit/VOC2012/Annotations\\2008_000008.xml\n"
     ]
    }
   ],
   "source": [
    "rootpath = './data/VOCdevkit/VOC2012/'\n",
    "train_img_list,train_anno_list,val_img_list,val_anno_list = make_datapath_list(rootpath)\n",
    "\n",
    "print(train_img_list[0])\n",
    "print(train_anno_list[0])"
   ]
  },
  {
   "cell_type": "markdown",
   "metadata": {},
   "source": [
    "### 将xml的标注数据转换成列表"
   ]
  },
  {
   "cell_type": "code",
   "execution_count": 47,
   "metadata": {},
   "outputs": [],
   "source": [
    "# 将xml格式的标注转换成列表形式的类\n",
    "\n",
    "class Anno_xml2list(object):\n",
    "    def __init__(self,classes):\n",
    "        self.classes = classes \n",
    "    \n",
    "    def __call__(self,xml_path,width,height):\n",
    "        \"\"\"\n",
    "        使用图像的尺寸信息，对每一张包含xml格式的标注数据进行正规化处理，并保存到列表中\n",
    "\n",
    "        ret: [[xmin,ymin,xmax,ymax,label_ind],...]\n",
    "        \"\"\"\n",
    "\n",
    "        #将图像包含的所有标注数据保存到列表中\n",
    "        ret = []\n",
    "\n",
    "        #读取xml文件\n",
    "        xml = ET.parse(xml_path).getroot()\n",
    "\n",
    "        #将图像内包含的物体数量作为循环次数进行迭代\n",
    "        for obj in xml.iter('object'):\n",
    "\n",
    "            #将标注中注明检测难度为difficult的对象剔除\n",
    "            difficult = int(obj.find('difficult').text)\n",
    "            if difficult == 1:\n",
    "                # print(difficult)\n",
    "                continue\n",
    "\n",
    "            #用于保存每个物体的标注信息列表\n",
    "            bndbox = []\n",
    "            name = obj.find('name').text.lower().strip() #物体名称\n",
    "            # print(name)\n",
    "            bbox = obj.find('bndbox')\n",
    "            \n",
    "            #获取标注xmin、ymin、xmax、ymax,并归一化为0~1之间\n",
    "            pts = ['xmin','ymin','xmax','ymax']\n",
    "            for pt in pts:\n",
    "                #VOC的原点是从（1，1）开始，减1变成（0，0）\n",
    "                cur_pixl = int(bbox.find(pt).text) - 1\n",
    "\n",
    "                #归一化\n",
    "                if pt == 'xmin' or pt == 'xmax':\n",
    "                    cur_pixl /= width\n",
    "                else:\n",
    "                    cur_pixl /= height\n",
    "                bndbox.append(cur_pixl)\n",
    "            #取得分类名的index并添加\n",
    "            label_index = self.classes.index(name)\n",
    "            bndbox.append(label_index)\n",
    "\n",
    "            ret += [bndbox]\n",
    "\n",
    "        return np.array(ret)\n"
   ]
  },
  {
   "cell_type": "code",
   "execution_count": 48,
   "metadata": {},
   "outputs": [
    {
     "data": {
      "text/plain": [
       "array([[ 0.09      ,  0.03003003,  0.998     ,  0.996997  , 18.        ],\n",
       "       [ 0.122     ,  0.56756757,  0.164     ,  0.72672673, 14.        ]])"
      ]
     },
     "execution_count": 48,
     "metadata": {},
     "output_type": "execute_result"
    }
   ],
   "source": [
    "#确认\n",
    "voc_classes = ['aeroplane', 'bicycle', 'bird', 'boat',\n",
    "               'bottle', 'bus', 'car', 'cat', 'chair',\n",
    "               'cow', 'diningtable', 'dog', 'horse',\n",
    "               'motorbike', 'person', 'pottedplant',\n",
    "               'sheep', 'sofa', 'train', 'tvmonitor']\n",
    "transform_anno = Anno_xml2list(voc_classes)\n",
    "\n",
    "# 使用OpenCV读取图像\n",
    "ind = 1\n",
    "image_file_path = val_img_list[ind]\n",
    "img = cv2.imread(image_file_path)   #(333, 500, 3) (height,width,RGB)\n",
    "height,width,channels = img.shape \n",
    "\n",
    "#以列表形式表示标注\n",
    "transform_anno(val_anno_list[ind],width,height)"
   ]
  }
 ],
 "metadata": {
  "kernelspec": {
   "display_name": "zzIss",
   "language": "python",
   "name": "python3"
  },
  "language_info": {
   "codemirror_mode": {
    "name": "ipython",
    "version": 3
   },
   "file_extension": ".py",
   "mimetype": "text/x-python",
   "name": "python",
   "nbconvert_exporter": "python",
   "pygments_lexer": "ipython3",
   "version": "3.9.15"
  },
  "orig_nbformat": 4
 },
 "nbformat": 4,
 "nbformat_minor": 2
}
