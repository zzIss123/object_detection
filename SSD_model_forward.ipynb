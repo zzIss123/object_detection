{
 "cells": [
  {
   "cell_type": "markdown",
   "metadata": {},
   "source": [
    "# 网络模型、正向传播函数"
   ]
  },
  {
   "cell_type": "code",
   "execution_count": 1,
   "metadata": {},
   "outputs": [],
   "source": [
    "# 导入软件包\n",
    "import pandas as pd\n",
    "from math import sqrt as sqrt\n",
    "from itertools import product as product\n",
    "\n",
    "import torch\n",
    "import torch.nn as nn\n",
    "import torch.nn.init as init\n",
    "import torch.nn.functional as F\n",
    "from torch.autograd import Function\n"
   ]
  },
  {
   "cell_type": "code",
   "execution_count": 2,
   "metadata": {},
   "outputs": [
    {
     "name": "stdout",
     "output_type": "stream",
     "text": [
      "ModuleList(\n",
      "  (0): Conv2d(3, 64, kernel_size=(3, 3), stride=(1, 1), padding=(1, 1))\n",
      "  (1): ReLU(inplace=True)\n",
      "  (2): Conv2d(64, 64, kernel_size=(3, 3), stride=(1, 1), padding=(1, 1))\n",
      "  (3): ReLU(inplace=True)\n",
      "  (4): MaxPool2d(kernel_size=2, stride=2, padding=0, dilation=1, ceil_mode=False)\n",
      "  (5): Conv2d(64, 128, kernel_size=(3, 3), stride=(1, 1), padding=(1, 1))\n",
      "  (6): ReLU(inplace=True)\n",
      "  (7): Conv2d(128, 128, kernel_size=(3, 3), stride=(1, 1), padding=(1, 1))\n",
      "  (8): ReLU(inplace=True)\n",
      "  (9): MaxPool2d(kernel_size=2, stride=2, padding=0, dilation=1, ceil_mode=False)\n",
      "  (10): Conv2d(128, 256, kernel_size=(3, 3), stride=(1, 1), padding=(1, 1))\n",
      "  (11): ReLU(inplace=True)\n",
      "  (12): Conv2d(256, 256, kernel_size=(3, 3), stride=(1, 1), padding=(1, 1))\n",
      "  (13): ReLU(inplace=True)\n",
      "  (14): Conv2d(256, 256, kernel_size=(3, 3), stride=(1, 1), padding=(1, 1))\n",
      "  (15): ReLU(inplace=True)\n",
      "  (16): MaxPool2d(kernel_size=2, stride=2, padding=0, dilation=1, ceil_mode=True)\n",
      "  (17): Conv2d(256, 512, kernel_size=(3, 3), stride=(1, 1), padding=(1, 1))\n",
      "  (18): ReLU(inplace=True)\n",
      "  (19): Conv2d(512, 512, kernel_size=(3, 3), stride=(1, 1), padding=(1, 1))\n",
      "  (20): ReLU(inplace=True)\n",
      "  (21): Conv2d(512, 512, kernel_size=(3, 3), stride=(1, 1), padding=(1, 1))\n",
      "  (22): ReLU(inplace=True)\n",
      "  (23): MaxPool2d(kernel_size=2, stride=2, padding=0, dilation=1, ceil_mode=False)\n",
      "  (24): Conv2d(512, 512, kernel_size=(3, 3), stride=(1, 1), padding=(1, 1))\n",
      "  (25): ReLU(inplace=True)\n",
      "  (26): Conv2d(512, 512, kernel_size=(3, 3), stride=(1, 1), padding=(1, 1))\n",
      "  (27): ReLU(inplace=True)\n",
      "  (28): Conv2d(512, 512, kernel_size=(3, 3), stride=(1, 1), padding=(1, 1))\n",
      "  (29): ReLU(inplace=True)\n",
      "  (30): MaxPool2d(kernel_size=3, stride=1, padding=1, dilation=1, ceil_mode=False)\n",
      "  (31): Conv2d(512, 1024, kernel_size=(3, 3), stride=(1, 1), padding=(6, 6), dilation=(6, 6))\n",
      "  (32): ReLU(inplace=True)\n",
      "  (33): Conv2d(1024, 1024, kernel_size=(1, 1), stride=(1, 1))\n",
      "  (34): ReLU(inplace=True)\n",
      ")\n"
     ]
    }
   ],
   "source": [
    "#创建34层神经网络的vgg模块\n",
    "def make_vgg():\n",
    "    layers = []\n",
    "    in_channels = 3\n",
    "\n",
    "    #在vgg模块中使用的卷积层和最大池化等的通道数\n",
    "    cfg = [64,64,'M',128,128,'M',256,256,256,'MC',512,512,512,'M',512,512,512]\n",
    "\n",
    "    for v in cfg:\n",
    "        if v == 'M':\n",
    "            layers += [nn.MaxPool2d(kernel_size=2,stride=2)]\n",
    "        elif v == 'MC':\n",
    "            layers += [nn.MaxPool2d(2,2,ceil_mode=True)]\n",
    "        else:\n",
    "            conv2d = nn.Conv2d(in_channels,v,kernel_size=3,padding=1)\n",
    "            layers += [conv2d,nn.ReLU(inplace=True)]\n",
    "            in_channels = v \n",
    "    pool5 = nn.MaxPool2d(kernel_size=3,stride=1,padding=1)\n",
    "    conv6 = nn.Conv2d(512,1024,kernel_size=3,padding=6,dilation=6)\n",
    "    conv7 = nn.Conv2d(1024,1024,kernel_size=1)\n",
    "    layers += [pool5, conv6, nn.ReLU(inplace=True), conv7, nn.ReLU(inplace=True)]\n",
    "\n",
    "    return nn.ModuleList(layers)\n",
    "\n",
    "#请确认执行结果\n",
    "vgg_test = make_vgg()\n",
    "print(vgg_test)"
   ]
  },
  {
   "cell_type": "code",
   "execution_count": 3,
   "metadata": {},
   "outputs": [
    {
     "name": "stdout",
     "output_type": "stream",
     "text": [
      "ModuleList(\n",
      "  (0): Conv2d(1024, 256, kernel_size=(1, 1), stride=(1, 1))\n",
      "  (1): Conv2d(256, 512, kernel_size=(3, 3), stride=(2, 2), padding=(1, 1))\n",
      "  (2): Conv2d(512, 128, kernel_size=(1, 1), stride=(1, 1))\n",
      "  (3): Conv2d(128, 256, kernel_size=(3, 3), stride=(2, 2), padding=(1, 1))\n",
      "  (4): Conv2d(256, 128, kernel_size=(1, 1), stride=(1, 1))\n",
      "  (5): Conv2d(128, 256, kernel_size=(3, 3), stride=(1, 1))\n",
      "  (6): Conv2d(256, 128, kernel_size=(1, 1), stride=(1, 1))\n",
      "  (7): Conv2d(128, 256, kernel_size=(3, 3), stride=(1, 1))\n",
      ")\n"
     ]
    }
   ],
   "source": [
    "#创建8层网络的extras模块\n",
    "def make_extras():\n",
    "    layers = []\n",
    "    in_channels = 1024 \n",
    "\n",
    "    #extras卷积层通道数\n",
    "    cfg = [256,512,128,256,128,256,128,256]\n",
    "\n",
    "    layers += [nn.Conv2d(in_channels,cfg[0],kernel_size=1)]\n",
    "    layers += [nn.Conv2d(cfg[0],cfg[1],kernel_size=3,stride=2,padding=1)]\n",
    "    layers += [nn.Conv2d(cfg[1],cfg[2],kernel_size=1)]\n",
    "    layers += [nn.Conv2d(cfg[2],cfg[3],kernel_size=3,stride=2,padding=1)]\n",
    "    layers += [nn.Conv2d(cfg[3],cfg[4],kernel_size=1)]\n",
    "    layers += [nn.Conv2d(cfg[4],cfg[5],kernel_size=3)]\n",
    "    layers += [nn.Conv2d(cfg[5],cfg[6],kernel_size=1)]\n",
    "    layers += [nn.Conv2d(cfg[6],cfg[7],kernel_size=3)]\n",
    "\n",
    "    #ReLU函数在正向传播函数中实现\n",
    "    return nn.ModuleList(layers)\n",
    "\n",
    "#确认执行结果\n",
    "extras_test = make_extras()\n",
    "print(extras_test)\n",
    "\n",
    "\n",
    "\n"
   ]
  },
  {
   "cell_type": "code",
   "execution_count": null,
   "metadata": {},
   "outputs": [],
   "source": [
    "#loc_layers负责输出DBox的位移值\n",
    "#创建用于输出DBox的每个分类的置信度confidence的conf_layers\n",
    "\n",
    "def make_loc_conf(num_classes=21, bbox_aspect_num=[4,6,6,6,4,4]):\n",
    "\n",
    "    loc_layers = []\n",
    "    conf_layers = []\n",
    "\n",
    "    #VGG的第22层，对应source1的卷积层\n",
    "    loc_layers += [nn.Conv2d(512,bbox_aspect_num[0])]"
   ]
  }
 ],
 "metadata": {
  "kernelspec": {
   "display_name": "zzIss",
   "language": "python",
   "name": "python3"
  },
  "language_info": {
   "codemirror_mode": {
    "name": "ipython",
    "version": 3
   },
   "file_extension": ".py",
   "mimetype": "text/x-python",
   "name": "python",
   "nbconvert_exporter": "python",
   "pygments_lexer": "ipython3",
   "version": "3.9.15"
  },
  "orig_nbformat": 4
 },
 "nbformat": 4,
 "nbformat_minor": 2
}
